{
 "cells": [
  {
   "cell_type": "code",
   "execution_count": 2,
   "id": "df4948f6",
   "metadata": {},
   "outputs": [],
   "source": [
    "import wandb\n",
    "import pandas as pd"
   ]
  },
  {
   "cell_type": "code",
   "execution_count": null,
   "id": "e9288c1a",
   "metadata": {},
   "outputs": [],
   "source": [
    "api = wandb.Api()"
   ]
  },
  {
   "cell_type": "code",
   "execution_count": null,
   "id": "d142e28d",
   "metadata": {},
   "outputs": [],
   "source": [
    "runs = [\n",
    "    \"yizhenjia/amd-megatron-verl-grpo-qwen-gsm8k-report/1pfbehib\", # rollout tp 1, train tp1, train pp1, dp1\n",
    "    \"yizhenjia/amd-megatron-verl-grpo-qwen-gsm8k-report/mh74h5h1\", # rollout tp 1, train tp1, train pp1, dp2\n",
    "    \"yizhenjia/amd-megatron-verl-grpo-qwen-gsm8k-report/5rlh93of\", # rollout tp 1, train tp1, train pp1, dp4\n",
    "    \"yizhenjia/amd-megatron-verl-grpo-qwen-gsm8k-report/hdk38smx\", #!rollout tp 2, train tp2, train pp1, dp1\n",
    "    \"yizhenjia/amd-megatron-verl-grpo-qwen-gsm8k-report/5ww6cya7\", #!rollout tp 4, train tp4, train pp1, dp1\n",
    "    \"yizhenjia/amd-megatron-verl-grpo-qwen-gsm8k-report/mc3qc4ge\", # rollout tp 1, train tp1, train pp2, dp1    \n",
    "    \"yizhenjia/amd-megatron-verl-grpo-qwen-gsm8k-report/88uub7im\", # rollout tp 1, train tp1, train pp4, dp1\n",
    "]"
   ]
  },
  {
   "cell_type": "code",
   "execution_count": 3,
   "id": "e2156844",
   "metadata": {},
   "outputs": [],
   "source": [
    "runs_tp = [\n",
    "    \"yizhenjia/amd-megatron-verl-grpo-qwen-gsm8k-report/1pfbehib\", # rollout tp 1, train tp1, train pp1, dp1\n",
    "    \"yizhenjia/amd-megatron-verl-grpo-qwen-gsm8k-report/hdk38smx\", #!rollout tp 2, train tp2, train pp1, dp1\n",
    "    \"yizhenjia/amd-megatron-verl-grpo-qwen-gsm8k-report/5ww6cya7\", #!rollout tp 4, train tp4, train pp1, dp1\n",
    "]"
   ]
  },
  {
   "cell_type": "code",
   "execution_count": null,
   "id": "05ffddb9",
   "metadata": {},
   "outputs": [
    {
     "name": "stdout",
     "output_type": "stream",
     "text": [
      "yizhenjia/amd-megatron-verl-grpo-qwen-gsm8k-report/1pfbehib\n",
      "(27, 79)\n",
      "Rollout time:df['timing_s/generate_sequences'].mean()=229.57661946614584\n",
      "Rollout throughput total:df['response_length/total'].sum()/(df['timing_s/generate_sequences'].sum())=3911.67381913766\n",
      "Reshard time:df['timing_s/reshard'].mean()=49.71863322787814\n",
      "Old log prob time:df['timing_s/old_log_prob'].mean()=109.86696336833403\n",
      "Ref time:df['timing_s/ref'].mean()=95.49832162748162\n",
      "Train time:df['timing_s/update_actor'].mean()=355.6475298815562\n",
      "Train throughput:df['perf/total_num_tokens'].sum() / (df['timing_s/update_actor'].sum()*1)=3873.405744288358\n",
      "MFU:df['perf/flops_single/actor'].sum() / (df['perf/flops_promised'].sum()*1)=0.14013618297016583\n",
      "----------------------------------------------------------------------------------------------------\n"
     ]
    }
   ],
   "source": [
    "run_id = \"yizhenjia/amd-megatron-verl-grpo-qwen-gsm8k-report/1pfbehib\"\n",
    "run = api.run(run_id)\n",
    "history = run.scan_history()\n",
    "df = pd.DataFrame(history)\n",
    "df = df[1:28].reset_index(drop=True)\n",
    "print(run_id)\n",
    "print(df.shape)\n",
    "print(f\"Rollout time:{df['timing_s/generate_sequences'].mean()=}\")\n",
    "print(f\"Rollout throughput total:{df['response_length/total'].sum()/(df['timing_s/generate_sequences'].sum()*1)=}\")\n",
    "print(f\"Reshard time:{df['timing_s/reshard'].mean()=}\")\n",
    "print(f\"Old log prob time:{df['timing_s/old_log_prob'].mean()=}\")\n",
    "print(f\"Ref time:{df['timing_s/ref'].mean()=}\")\n",
    "print(f\"Train time:{df['timing_s/update_actor'].mean()=}\")\n",
    "print(f\"Train throughput:{df['perf/total_num_tokens'].sum() / (df['timing_s/update_actor'].sum()*1)=}\")\n",
    "print(f\"MFU:{df['perf/flops_single/actor'].sum() / (df['perf/flops_promised'].sum()*1)=}\")\n",
    "print(\"-\"*100)\n",
    "    "
   ]
  },
  {
   "cell_type": "code",
   "execution_count": 24,
   "id": "034f035a",
   "metadata": {},
   "outputs": [
    {
     "name": "stdout",
     "output_type": "stream",
     "text": [
      "yizhenjia/amd-megatron-verl-grpo-qwen-gsm8k-report/hdk38smx\n",
      "(27, 78)\n",
      "Rollout time:df['timing_s/generate_sequences'].mean()=242.7835693359375\n",
      "Rollout throughput total:df['response_length/total'].sum()/(df['timing_s/generate_sequences'].sum()*2)=1699.0548154509434\n",
      "Reshard time:df['timing_s/reshard'].mean()=47.14035161336263\n",
      "Old log prob time:df['timing_s/old_log_prob'].mean()=90.79359499336985\n",
      "Ref time:df['timing_s/ref'].mean()=82.48786927462977\n",
      "Train time:df['timing_s/update_actor'].mean()=334.9036863780377\n",
      "Train throughput:df['perf/total_num_tokens'].sum() / (df['timing_s/update_actor'].sum()*2)=1947.6398313602851\n",
      "MFU:df['perf/flops_single/actor'].sum() / (df['perf/flops_promised'].sum()*2)=0.07058456124105887\n",
      "----------------------------------------------------------------------------------------------------\n"
     ]
    }
   ],
   "source": [
    "run_id = \"yizhenjia/amd-megatron-verl-grpo-qwen-gsm8k-report/hdk38smx\"\n",
    "run = api.run(run_id)\n",
    "history = run.scan_history()\n",
    "df = pd.DataFrame(history)\n",
    "df = df[1:28].reset_index(drop=True)\n",
    "print(run_id)\n",
    "print(df.shape)\n",
    "print(f\"Rollout time:{df['timing_s/generate_sequences'].mean()=}\")\n",
    "print(f\"Rollout throughput total:{df['response_length/total'].sum()/(df['timing_s/generate_sequences'].sum()*2)=}\")\n",
    "print(f\"Reshard time:{df['timing_s/reshard'].mean()=}\")\n",
    "print(f\"Old log prob time:{df['timing_s/old_log_prob'].mean()=}\")\n",
    "print(f\"Ref time:{df['timing_s/ref'].mean()=}\")\n",
    "print(f\"Train time:{df['timing_s/update_actor'].mean()=}\")\n",
    "print(f\"Train throughput:{df['perf/total_num_tokens'].sum() / (df['timing_s/update_actor'].sum()*2)=}\")\n",
    "print(f\"MFU:{df['perf/flops_single/actor'].sum() / (df['perf/flops_promised'].sum()*2)=}\")\n",
    "print(\"-\"*100)\n",
    "    "
   ]
  },
  {
   "cell_type": "code",
   "execution_count": 25,
   "id": "9d8446ee",
   "metadata": {},
   "outputs": [
    {
     "name": "stdout",
     "output_type": "stream",
     "text": [
      "yizhenjia/amd-megatron-verl-grpo-qwen-gsm8k-report/5ww6cya7\n",
      "(27, 78)\n",
      "Rollout time:df['timing_s/generate_sequences'].mean()=253.18667206940827\n",
      "Rollout throughput total:df['response_length/total'].sum()/(df['timing_s/generate_sequences'].sum()*4)=906.1811542664626\n",
      "Reshard time:df['timing_s/reshard'].mean()=46.89006367436162\n",
      "Old log prob time:df['timing_s/old_log_prob'].mean()=76.54265454511187\n",
      "Ref time:df['timing_s/ref'].mean()=70.75983357859324\n",
      "Train time:df['timing_s/update_actor'].mean()=340.23560305455584\n",
      "Train throughput:df['perf/total_num_tokens'].sum() / (df['timing_s/update_actor'].sum()*4)=1026.6931824241274\n",
      "MFU:df['perf/flops_single/actor'].sum() / (df['perf/flops_promised'].sum()*4)=0.03663643377953964\n",
      "----------------------------------------------------------------------------------------------------\n"
     ]
    }
   ],
   "source": [
    "run_id = \"yizhenjia/amd-megatron-verl-grpo-qwen-gsm8k-report/5ww6cya7\"\n",
    "run = api.run(run_id)\n",
    "history = run.scan_history()\n",
    "df = pd.DataFrame(history)\n",
    "df = df[1:28].reset_index(drop=True)\n",
    "print(run_id)\n",
    "print(df.shape)\n",
    "print(f\"Rollout time:{df['timing_s/generate_sequences'].mean()=}\")\n",
    "print(f\"Rollout throughput total:{df['response_length/total'].sum()/(df['timing_s/generate_sequences'].sum()*4)=}\")\n",
    "print(f\"Reshard time:{df['timing_s/reshard'].mean()=}\")\n",
    "print(f\"Old log prob time:{df['timing_s/old_log_prob'].mean()=}\")\n",
    "print(f\"Ref time:{df['timing_s/ref'].mean()=}\")\n",
    "print(f\"Train time:{df['timing_s/update_actor'].mean()=}\")\n",
    "print(f\"Train throughput:{df['perf/total_num_tokens'].sum() / (df['timing_s/update_actor'].sum()*4)=}\")\n",
    "print(f\"MFU:{df['perf/flops_single/actor'].sum() / (df['perf/flops_promised'].sum()*4)=}\")\n",
    "print(\"-\"*100)\n",
    "    "
   ]
  },
  {
   "cell_type": "code",
   "execution_count": null,
   "id": "36f93992",
   "metadata": {},
   "outputs": [],
   "source": [
    "runs_dp = [\n",
    "    \"yizhenjia/amd-megatron-verl-grpo-qwen-gsm8k-report/1pfbehib\", # rollout tp 1, train tp1, train pp1, dp1\n",
    "    \"yizhenjia/amd-megatron-verl-grpo-qwen-gsm8k-report/mh74h5h1\", # rollout tp 1, train tp1, train pp1, dp2\n",
    "    \"yizhenjia/amd-megatron-verl-grpo-qwen-gsm8k-report/5rlh93of\", # rollout tp 1, train tp1, train pp1, dp4\n",
    "]"
   ]
  },
  {
   "cell_type": "code",
   "execution_count": 27,
   "id": "4393d481",
   "metadata": {},
   "outputs": [
    {
     "name": "stdout",
     "output_type": "stream",
     "text": [
      "yizhenjia/amd-megatron-verl-grpo-qwen-gsm8k-report/mh74h5h1\n",
      "(27, 79)\n",
      "Rollout time:df['timing_s/generate_sequences'].mean()=145.0899940773293\n",
      "Rollout throughput total:df['response_length/total'].sum()/(df['timing_s/generate_sequences'].sum()*2)=2919.187060601813\n",
      "Reshard time:df['timing_s/reshard'].mean()=46.59132385253906\n",
      "Old log prob time:df['timing_s/old_log_prob'].mean()=58.37255803122254\n",
      "Ref time:df['timing_s/ref'].mean()=46.60461041074059\n",
      "Train time:df['timing_s/update_actor'].mean()=180.46694319855536\n",
      "Train throughput:df['perf/total_num_tokens'].sum() / (df['timing_s/update_actor'].sum()*2)=3675.5429456695642\n",
      "MFU:df['perf/flops_single/actor'].sum() / (df['perf/flops_promised'].sum()*2)=0.13919949203103993\n",
      "----------------------------------------------------------------------------------------------------\n"
     ]
    }
   ],
   "source": [
    "run_id = \"yizhenjia/amd-megatron-verl-grpo-qwen-gsm8k-report/mh74h5h1\"\n",
    "run = api.run(run_id)\n",
    "history = run.scan_history()\n",
    "df = pd.DataFrame(history)\n",
    "df = df[1:28].reset_index(drop=True)\n",
    "print(run_id)\n",
    "print(df.shape)\n",
    "print(f\"Rollout time:{df['timing_s/generate_sequences'].mean()=}\")\n",
    "print(f\"Rollout throughput total:{df['response_length/total'].sum()/(df['timing_s/generate_sequences'].sum()*2)=}\")\n",
    "print(f\"Reshard time:{df['timing_s/reshard'].mean()=}\")\n",
    "print(f\"Old log prob time:{df['timing_s/old_log_prob'].mean()=}\")\n",
    "print(f\"Ref time:{df['timing_s/ref'].mean()=}\")\n",
    "print(f\"Train time:{df['timing_s/update_actor'].mean()=}\")\n",
    "print(f\"Train throughput:{df['perf/total_num_tokens'].sum() / (df['timing_s/update_actor'].sum()*2)=}\")\n",
    "print(f\"MFU:{df['perf/flops_single/actor'].sum() / (df['perf/flops_promised'].sum()*2)=}\")\n",
    "print(\"-\"*100)\n",
    "    "
   ]
  },
  {
   "cell_type": "code",
   "execution_count": 28,
   "id": "f425e4ea",
   "metadata": {},
   "outputs": [
    {
     "name": "stdout",
     "output_type": "stream",
     "text": [
      "yizhenjia/amd-megatron-verl-grpo-qwen-gsm8k-report/5rlh93of\n",
      "(27, 79)\n",
      "Rollout time:df['timing_s/generate_sequences'].mean()=97.84938854641385\n",
      "Rollout throughput total:df['response_length/total'].sum()/(df['timing_s/generate_sequences'].sum()*4)=2136.6351650248175\n",
      "Reshard time:df['timing_s/reshard'].mean()=44.597338923701535\n",
      "Old log prob time:df['timing_s/old_log_prob'].mean()=34.374864624037095\n",
      "Ref time:df['timing_s/ref'].mean()=23.751963521852034\n",
      "Train time:df['timing_s/update_actor'].mean()=97.42414994570397\n",
      "Train throughput:df['perf/total_num_tokens'].sum() / (df['timing_s/update_actor'].sum()*4)=3376.503956781851\n",
      "MFU:df['perf/flops_single/actor'].sum() / (df['perf/flops_promised'].sum()*4)=0.13622270451329604\n",
      "----------------------------------------------------------------------------------------------------\n"
     ]
    }
   ],
   "source": [
    "run_id = \"yizhenjia/amd-megatron-verl-grpo-qwen-gsm8k-report/5rlh93of\"\n",
    "run = api.run(run_id)\n",
    "history = run.scan_history()\n",
    "df = pd.DataFrame(history)\n",
    "df = df[1:28].reset_index(drop=True)\n",
    "print(run_id)\n",
    "print(df.shape)\n",
    "print(f\"Rollout time:{df['timing_s/generate_sequences'].mean()=}\")\n",
    "print(f\"Rollout throughput total:{df['response_length/total'].sum()/(df['timing_s/generate_sequences'].sum()*4)=}\")\n",
    "print(f\"Reshard time:{df['timing_s/reshard'].mean()=}\")\n",
    "print(f\"Old log prob time:{df['timing_s/old_log_prob'].mean()=}\")\n",
    "print(f\"Ref time:{df['timing_s/ref'].mean()=}\")\n",
    "print(f\"Train time:{df['timing_s/update_actor'].mean()=}\")\n",
    "print(f\"Train throughput:{df['perf/total_num_tokens'].sum() / (df['timing_s/update_actor'].sum()*4)=}\")\n",
    "print(f\"MFU:{df['perf/flops_single/actor'].sum() / (df['perf/flops_promised'].sum()*4)=}\")\n",
    "print(\"-\"*100)\n",
    "    "
   ]
  },
  {
   "cell_type": "code",
   "execution_count": null,
   "id": "9374305b",
   "metadata": {},
   "outputs": [],
   "source": [
    "runs_pp = [\n",
    "    \"yizhenjia/amd-megatron-verl-grpo-qwen-gsm8k-report/1pfbehib\", # rollout tp 1, train tp1, train pp1, dp1\n",
    "    \"yizhenjia/amd-megatron-verl-grpo-qwen-gsm8k-report/mc3qc4ge\", # rollout tp 1, train tp1, train pp2, dp1    \n",
    "    \"yizhenjia/amd-megatron-verl-grpo-qwen-gsm8k-report/88uub7im\", # rollout tp 1, train tp1, train pp4, dp1\n",
    "]"
   ]
  },
  {
   "cell_type": "code",
   "execution_count": 29,
   "id": "b8978a06",
   "metadata": {},
   "outputs": [
    {
     "name": "stdout",
     "output_type": "stream",
     "text": [
      "yizhenjia/amd-megatron-verl-grpo-qwen-gsm8k-report/mc3qc4ge\n",
      "(27, 79)\n",
      "Rollout time:df['timing_s/generate_sequences'].mean()=117.24281480577257\n",
      "Rollout throughput total:df['response_length/total'].sum()/(df['timing_s/generate_sequences'].sum()*2)=3733.297089330105\n",
      "Reshard time:df['timing_s/reshard'].mean()=41.14031226546676\n",
      "Old log prob time:df['timing_s/old_log_prob'].mean()=62.039999325036696\n",
      "Ref time:df['timing_s/ref'].mean()=51.725484903999906\n",
      "Train time:df['timing_s/update_actor'].mean()=189.39873850488974\n",
      "Train throughput:df['perf/total_num_tokens'].sum() / (df['timing_s/update_actor'].sum()*2)=3576.9584912437813\n",
      "MFU:df['perf/flops_single/actor'].sum() / (df['perf/flops_promised'].sum()*2)=0.1311131949522176\n",
      "----------------------------------------------------------------------------------------------------\n"
     ]
    }
   ],
   "source": [
    "run_id = \"yizhenjia/amd-megatron-verl-grpo-qwen-gsm8k-report/mc3qc4ge\"\n",
    "run = api.run(run_id)\n",
    "history = run.scan_history()\n",
    "df = pd.DataFrame(history)\n",
    "df = df[1:28].reset_index(drop=True)\n",
    "print(run_id)\n",
    "print(df.shape)\n",
    "print(f\"Rollout time:{df['timing_s/generate_sequences'].mean()=}\")\n",
    "print(f\"Rollout throughput total:{df['response_length/total'].sum()/(df['timing_s/generate_sequences'].sum()*2)=}\")\n",
    "print(f\"Reshard time:{df['timing_s/reshard'].mean()=}\")\n",
    "print(f\"Old log prob time:{df['timing_s/old_log_prob'].mean()=}\")\n",
    "print(f\"Ref time:{df['timing_s/ref'].mean()=}\")\n",
    "print(f\"Train time:{df['timing_s/update_actor'].mean()=}\")\n",
    "print(f\"Train throughput:{df['perf/total_num_tokens'].sum() / (df['timing_s/update_actor'].sum()*2)=}\")\n",
    "print(f\"MFU:{df['perf/flops_single/actor'].sum() / (df['perf/flops_promised'].sum()*2)=}\")\n",
    "print(\"-\"*100)\n",
    "    "
   ]
  },
  {
   "cell_type": "code",
   "execution_count": 31,
   "id": "044365e0",
   "metadata": {},
   "outputs": [
    {
     "name": "stdout",
     "output_type": "stream",
     "text": [
      "yizhenjia/amd-megatron-verl-grpo-qwen-gsm8k-report/88uub7im\n",
      "(27, 79)\n",
      "Rollout time:df['timing_s/generate_sequences'].mean()=78.79667112562392\n",
      "Rollout throughput total:df['response_length/total'].sum()/(df['timing_s/generate_sequences'].sum()*4)=2728.4165157958832\n",
      "Reshard time:df['timing_s/reshard'].mean()=36.407465334291814\n",
      "Old log prob time:df['timing_s/old_log_prob'].mean()=39.202443507074484\n",
      "Ref time:df['timing_s/ref'].mean()=31.38313395211164\n",
      "Train time:df['timing_s/update_actor'].mean()=112.2097714317769\n",
      "Train throughput:df['perf/total_num_tokens'].sum() / (df['timing_s/update_actor'].sum()*4)=2984.3632862742684\n",
      "MFU:df['perf/flops_single/actor'].sum() / (df['perf/flops_promised'].sum()*4)=0.11277614198148557\n",
      "----------------------------------------------------------------------------------------------------\n"
     ]
    }
   ],
   "source": [
    "run_id = \"yizhenjia/amd-megatron-verl-grpo-qwen-gsm8k-report/88uub7im\"\n",
    "run = api.run(run_id)\n",
    "history = run.scan_history()\n",
    "df = pd.DataFrame(history)\n",
    "df = df[1:28].reset_index(drop=True)\n",
    "print(run_id)\n",
    "print(df.shape)\n",
    "print(f\"Rollout time:{df['timing_s/generate_sequences'].mean()=}\")\n",
    "print(f\"Rollout throughput total:{df['response_length/total'].sum()/(df['timing_s/generate_sequences'].sum()*4)=}\")\n",
    "print(f\"Reshard time:{df['timing_s/reshard'].mean()=}\")\n",
    "print(f\"Old log prob time:{df['timing_s/old_log_prob'].mean()=}\")\n",
    "print(f\"Ref time:{df['timing_s/ref'].mean()=}\")\n",
    "print(f\"Train time:{df['timing_s/update_actor'].mean()=}\")\n",
    "print(f\"Train throughput:{df['perf/total_num_tokens'].sum() / (df['timing_s/update_actor'].sum()*4)=}\")\n",
    "print(f\"MFU:{df['perf/flops_single/actor'].sum() / (df['perf/flops_promised'].sum()*4)=}\")\n",
    "print(\"-\"*100)\n",
    "    "
   ]
  }
 ],
 "metadata": {
  "kernelspec": {
   "display_name": "base",
   "language": "python",
   "name": "python3"
  },
  "language_info": {
   "codemirror_mode": {
    "name": "ipython",
    "version": 3
   },
   "file_extension": ".py",
   "mimetype": "text/x-python",
   "name": "python",
   "nbconvert_exporter": "python",
   "pygments_lexer": "ipython3",
   "version": "3.12.7"
  }
 },
 "nbformat": 4,
 "nbformat_minor": 5
}
