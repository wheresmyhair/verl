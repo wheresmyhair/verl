{
 "cells": [
  {
   "cell_type": "code",
   "execution_count": 1,
   "id": "df4948f6",
   "metadata": {},
   "outputs": [],
   "source": [
    "import wandb\n",
    "import pandas as pd"
   ]
  },
  {
   "cell_type": "code",
   "execution_count": 2,
   "id": "d142e28d",
   "metadata": {},
   "outputs": [],
   "source": [
    "runs = [\n",
    "    \"yizhenjia/amd-megatron-verl-grpo-qwen-gsm8k-new/mr2i26tf\",\n",
    "    \"yizhenjia/amd-megatron-verl-grpo-qwen-gsm8k-new/e0laurbp\",\n",
    "    \"yizhenjia/amd-megatron-verl-grpo-qwen-gsm8k-new/ieowb702\",\n",
    "    \"yizhenjia/amd-megatron-verl-grpo-qwen-gsm8k-new/2chjnz2w\",\n",
    "    \"yizhenjia/amd-megatron-verl-grpo-qwen-gsm8k-new/yb7ggmzm\"\n",
    "]"
   ]
  },
  {
   "cell_type": "code",
   "execution_count": 5,
   "id": "05ffddb9",
   "metadata": {},
   "outputs": [
    {
     "name": "stdout",
     "output_type": "stream",
     "text": [
      "yizhenjia/amd-megatron-verl-grpo-qwen-gsm8k-new/mr2i26tf\n",
      "df['timing_s/generate_sequences'].mean()=212.8774856567383\n",
      "df['response_length/total'].sum()/(df['timing_s/generate_sequences'].sum()*8)=596.3347279697717\n",
      "df['timing_s/reshard'].mean()=22.119522190093996\n",
      "df['timing_s/old_log_prob'].mean()=24.754794210801627\n",
      "df['timing_s/ref'].mean()=24.198435057200548\n",
      "df['timing_s/update_actor'].mean()=81.44050414790108\n",
      "df['perf/total_num_tokens'].sum() / (df['timing_s/step'].sum()*8)=499.21389411081344\n",
      "----------------------------------------------------------------------------------------------------\n",
      "yizhenjia/amd-megatron-verl-grpo-qwen-gsm8k-new/e0laurbp\n",
      "df['timing_s/generate_sequences'].mean()=145.4923309326172\n",
      "df['response_length/total'].sum()/(df['timing_s/generate_sequences'].sum()*8)=838.7398271632383\n",
      "df['timing_s/reshard'].mean()=19.490380716323852\n",
      "df['timing_s/old_log_prob'].mean()=23.990396167198195\n",
      "df['timing_s/ref'].mean()=23.509028133399262\n",
      "df['timing_s/update_actor'].mean()=81.18787053729902\n",
      "df['perf/total_num_tokens'].sum() / (df['timing_s/step'].sum()*8)=601.122428049761\n",
      "----------------------------------------------------------------------------------------------------\n",
      "yizhenjia/amd-megatron-verl-grpo-qwen-gsm8k-new/ieowb702\n",
      "df['timing_s/generate_sequences'].mean()=127.3645523071289\n",
      "df['response_length/total'].sum()/(df['timing_s/generate_sequences'].sum()*8)=936.0101405022351\n",
      "df['timing_s/reshard'].mean()=18.310757637023926\n",
      "df['timing_s/old_log_prob'].mean()=23.680631458000427\n",
      "df['timing_s/ref'].mean()=22.97555826129974\n",
      "df['timing_s/update_actor'].mean()=79.32335500819973\n",
      "df['perf/total_num_tokens'].sum() / (df['timing_s/step'].sum()*8)=638.4413013467495\n",
      "----------------------------------------------------------------------------------------------------\n",
      "yizhenjia/amd-megatron-verl-grpo-qwen-gsm8k-new/2chjnz2w\n",
      "df['timing_s/generate_sequences'].mean()=126.52944107055664\n",
      "df['response_length/total'].sum()/(df['timing_s/generate_sequences'].sum()*8)=980.3371567162042\n",
      "df['timing_s/reshard'].mean()=18.280714225769042\n",
      "df['timing_s/old_log_prob'].mean()=23.797537091399864\n",
      "df['timing_s/ref'].mean()=23.306128117299522\n",
      "df['timing_s/update_actor'].mean()=79.62140638220153\n",
      "df['perf/total_num_tokens'].sum() / (df['timing_s/step'].sum()*8)=655.996492324583\n",
      "----------------------------------------------------------------------------------------------------\n",
      "yizhenjia/amd-megatron-verl-grpo-qwen-gsm8k-new/yb7ggmzm\n",
      "df['timing_s/generate_sequences'].mean()=181.84242095947266\n",
      "df['response_length/total'].sum()/(df['timing_s/generate_sequences'].sum()*8)=3021.480546733661\n",
      "df['timing_s/reshard'].mean()=18.751516008377074\n",
      "df['timing_s/old_log_prob'].mean()=46.285032214600506\n",
      "df['timing_s/ref'].mean()=47.45342508319955\n",
      "df['timing_s/update_actor'].mean()=132.83078298850015\n",
      "df['perf/total_num_tokens'].sum() / (df['timing_s/step'].sum()*8)=1390.8207540038472\n",
      "----------------------------------------------------------------------------------------------------\n"
     ]
    }
   ],
   "source": [
    "for run_id in runs:\n",
    "    api = wandb.Api()\n",
    "    run = api.run(run_id)\n",
    "    history = run.scan_history()\n",
    "    df = pd.DataFrame(history)\n",
    "    df = df[1:].reset_index(drop=True)\n",
    "    print(run_id)\n",
    "    print(f\"{df['timing_s/generate_sequences'].mean()=}\")\n",
    "    print(f\"{df['response_length/total'].sum()/(df['timing_s/generate_sequences'].sum()*8)=}\")\n",
    "    print(f\"{df['timing_s/reshard'].mean()=}\")\n",
    "    print(f\"{df['timing_s/old_log_prob'].mean()=}\")\n",
    "    print(f\"{df['timing_s/ref'].mean()=}\")\n",
    "    print(f\"{df['timing_s/update_actor'].mean()=}\")\n",
    "    print(f\"{df['perf/total_num_tokens'].sum() / (df['timing_s/step'].sum()*8)=}\")\n",
    "    print(\"-\"*100)\n",
    "    "
   ]
  },
  {
   "cell_type": "code",
   "execution_count": null,
   "id": "f183ff60",
   "metadata": {},
   "outputs": [
    {
     "data": {
      "text/plain": [
       "1.682579829276004"
      ]
     },
     "execution_count": 7,
     "metadata": {},
     "output_type": "execute_result"
    }
   ],
   "source": [
    "# rollout time\n",
    "212.88/126.53"
   ]
  },
  {
   "cell_type": "code",
   "execution_count": null,
   "id": "fbe03ab4",
   "metadata": {},
   "outputs": [
    {
     "data": {
      "text/plain": [
       "1.6439555279794744"
      ]
     },
     "execution_count": 8,
     "metadata": {},
     "output_type": "execute_result"
    }
   ],
   "source": [
    "# rollout throughput (tokens/s/gpu)\n",
    "980.34/596.33"
   ]
  }
 ],
 "metadata": {
  "kernelspec": {
   "display_name": "base",
   "language": "python",
   "name": "python3"
  },
  "language_info": {
   "codemirror_mode": {
    "name": "ipython",
    "version": 3
   },
   "file_extension": ".py",
   "mimetype": "text/x-python",
   "name": "python",
   "nbconvert_exporter": "python",
   "pygments_lexer": "ipython3",
   "version": "3.12.7"
  }
 },
 "nbformat": 4,
 "nbformat_minor": 5
}
